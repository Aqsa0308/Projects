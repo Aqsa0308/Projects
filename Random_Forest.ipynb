{
  "nbformat": 4,
  "nbformat_minor": 0,
  "metadata": {
    "colab": {
      "provenance": [],
      "authorship_tag": "ABX9TyN8gzsUhdN7SG37/bjX3JK2",
      "include_colab_link": true
    },
    "kernelspec": {
      "name": "python3",
      "display_name": "Python 3"
    },
    "language_info": {
      "name": "python"
    }
  },
  "cells": [
    {
      "cell_type": "markdown",
      "metadata": {
        "id": "view-in-github",
        "colab_type": "text"
      },
      "source": [
        "<a href=\"https://colab.research.google.com/github/Aqsa0308/Projects/blob/main/Random_Forest.ipynb\" target=\"_parent\"><img src=\"https://colab.research.google.com/assets/colab-badge.svg\" alt=\"Open In Colab\"/></a>"
      ]
    },
    {
      "cell_type": "code",
      "execution_count": 54,
      "metadata": {
        "colab": {
          "base_uri": "https://localhost:8080/"
        },
        "id": "MewJJT57CkFz",
        "outputId": "2796ef3d-bc45-4934-fd64-d1ff28d967e1"
      },
      "outputs": [
        {
          "output_type": "execute_result",
          "data": {
            "text/plain": [
              "0.7532467532467533"
            ]
          },
          "metadata": {},
          "execution_count": 54
        }
      ],
      "source": [
        "import pandas as pd\n",
        "import numpy as np\n",
        "import matplotlib.pyplot as plt\n",
        "from sklearn.ensemble import RandomForestClassifier\n",
        "from sklearn.model_selection import train_test_split\n",
        "from sklearn.metrics import accuracy_score\n",
        "accuracy_score(y_test, y_pred1)"
      ]
    },
    {
      "cell_type": "code",
      "source": [
        "df = pd.read_csv('/content/Pima.csv')"
      ],
      "metadata": {
        "id": "PneJQN2UCxLa"
      },
      "execution_count": 42,
      "outputs": []
    },
    {
      "cell_type": "code",
      "source": [
        "df.columns"
      ],
      "metadata": {
        "colab": {
          "base_uri": "https://localhost:8080/"
        },
        "id": "4D3bNBgnG2UJ",
        "outputId": "2c0ae249-770e-484a-8efb-a401446b9ac1"
      },
      "execution_count": 45,
      "outputs": [
        {
          "output_type": "execute_result",
          "data": {
            "text/plain": [
              "Index(['preg_count', 'glucose_concentration', 'diastolic_bp',\n",
              "       'triceps_skin_fold_thickness', 'two_hr_serum_insulin', 'bmi',\n",
              "       'diabetes_pedi', 'age', 'diabetes_class'],\n",
              "      dtype='object')"
            ]
          },
          "metadata": {},
          "execution_count": 45
        }
      ]
    },
    {
      "cell_type": "code",
      "source": [
        "X = df[['preg_count', 'glucose_concentration', 'diastolic_bp',\n",
        "       'triceps_skin_fold_thickness', 'two_hr_serum_insulin', 'bmi',\n",
        "       'diabetes_pedi', 'age']]"
      ],
      "metadata": {
        "id": "Zs3TQXV_C20_"
      },
      "execution_count": 46,
      "outputs": []
    },
    {
      "cell_type": "code",
      "source": [
        "y = df['diabetes_class']"
      ],
      "metadata": {
        "id": "hZXOva3UC3hl"
      },
      "execution_count": 47,
      "outputs": []
    },
    {
      "cell_type": "code",
      "source": [
        "X_train, X_test, y_train, y_test = train_test_split(X,y,train_size=0.80, random_state=42)"
      ],
      "metadata": {
        "id": "oD6BTkqQC5Vj"
      },
      "execution_count": 48,
      "outputs": []
    },
    {
      "cell_type": "code",
      "source": [
        "RandomForestClassifier"
      ],
      "metadata": {
        "colab": {
          "base_uri": "https://localhost:8080/",
          "height": 238
        },
        "id": "lG0erXzPC7S7",
        "outputId": "6115879f-56d8-465b-cf78-4fdc1abb4244"
      },
      "execution_count": 49,
      "outputs": [
        {
          "output_type": "execute_result",
          "data": {
            "text/plain": [
              "sklearn.ensemble._forest.RandomForestClassifier"
            ],
            "text/html": [
              "<div style=\"max-width:800px; border: 1px solid var(--colab-border-color);\"><style>\n",
              "      pre.function-repr-contents {\n",
              "        overflow-x: auto;\n",
              "        padding: 8px 12px;\n",
              "        max-height: 500px;\n",
              "      }\n",
              "\n",
              "      pre.function-repr-contents.function-repr-contents-collapsed {\n",
              "        cursor: pointer;\n",
              "        max-height: 100px;\n",
              "      }\n",
              "    </style>\n",
              "    <pre style=\"white-space: initial; background:\n",
              "         var(--colab-secondary-surface-color); padding: 8px 12px;\n",
              "         border-bottom: 1px solid var(--colab-border-color);\"><b>sklearn.ensemble._forest.RandomForestClassifier</b><br/>def __init__(n_estimators=100, *, criterion=&#x27;gini&#x27;, max_depth=None, min_samples_split=2, min_samples_leaf=1, min_weight_fraction_leaf=0.0, max_features=&#x27;sqrt&#x27;, max_leaf_nodes=None, min_impurity_decrease=0.0, bootstrap=True, oob_score=False, n_jobs=None, random_state=None, verbose=0, warm_start=False, class_weight=None, ccp_alpha=0.0, max_samples=None)</pre><pre class=\"function-repr-contents function-repr-contents-collapsed\" style=\"\"><a class=\"filepath\" style=\"display:none\" href=\"#\">/usr/local/lib/python3.10/dist-packages/sklearn/ensemble/_forest.py</a>A random forest classifier.\n",
              "\n",
              "A random forest is a meta estimator that fits a number of decision tree\n",
              "classifiers on various sub-samples of the dataset and uses averaging to\n",
              "improve the predictive accuracy and control over-fitting.\n",
              "The sub-sample size is controlled with the `max_samples` parameter if\n",
              "`bootstrap=True` (default), otherwise the whole dataset is used to build\n",
              "each tree.\n",
              "\n",
              "Read more in the :ref:`User Guide &lt;forest&gt;`.\n",
              "\n",
              "Parameters\n",
              "----------\n",
              "n_estimators : int, default=100\n",
              "    The number of trees in the forest.\n",
              "\n",
              "    .. versionchanged:: 0.22\n",
              "       The default value of ``n_estimators`` changed from 10 to 100\n",
              "       in 0.22.\n",
              "\n",
              "criterion : {&quot;gini&quot;, &quot;entropy&quot;, &quot;log_loss&quot;}, default=&quot;gini&quot;\n",
              "    The function to measure the quality of a split. Supported criteria are\n",
              "    &quot;gini&quot; for the Gini impurity and &quot;log_loss&quot; and &quot;entropy&quot; both for the\n",
              "    Shannon information gain, see :ref:`tree_mathematical_formulation`.\n",
              "    Note: This parameter is tree-specific.\n",
              "\n",
              "max_depth : int, default=None\n",
              "    The maximum depth of the tree. If None, then nodes are expanded until\n",
              "    all leaves are pure or until all leaves contain less than\n",
              "    min_samples_split samples.\n",
              "\n",
              "min_samples_split : int or float, default=2\n",
              "    The minimum number of samples required to split an internal node:\n",
              "\n",
              "    - If int, then consider `min_samples_split` as the minimum number.\n",
              "    - If float, then `min_samples_split` is a fraction and\n",
              "      `ceil(min_samples_split * n_samples)` are the minimum\n",
              "      number of samples for each split.\n",
              "\n",
              "    .. versionchanged:: 0.18\n",
              "       Added float values for fractions.\n",
              "\n",
              "min_samples_leaf : int or float, default=1\n",
              "    The minimum number of samples required to be at a leaf node.\n",
              "    A split point at any depth will only be considered if it leaves at\n",
              "    least ``min_samples_leaf`` training samples in each of the left and\n",
              "    right branches.  This may have the effect of smoothing the model,\n",
              "    especially in regression.\n",
              "\n",
              "    - If int, then consider `min_samples_leaf` as the minimum number.\n",
              "    - If float, then `min_samples_leaf` is a fraction and\n",
              "      `ceil(min_samples_leaf * n_samples)` are the minimum\n",
              "      number of samples for each node.\n",
              "\n",
              "    .. versionchanged:: 0.18\n",
              "       Added float values for fractions.\n",
              "\n",
              "min_weight_fraction_leaf : float, default=0.0\n",
              "    The minimum weighted fraction of the sum total of weights (of all\n",
              "    the input samples) required to be at a leaf node. Samples have\n",
              "    equal weight when sample_weight is not provided.\n",
              "\n",
              "max_features : {&quot;sqrt&quot;, &quot;log2&quot;, None}, int or float, default=&quot;sqrt&quot;\n",
              "    The number of features to consider when looking for the best split:\n",
              "\n",
              "    - If int, then consider `max_features` features at each split.\n",
              "    - If float, then `max_features` is a fraction and\n",
              "      `max(1, int(max_features * n_features_in_))` features are considered at each\n",
              "      split.\n",
              "    - If &quot;auto&quot;, then `max_features=sqrt(n_features)`.\n",
              "    - If &quot;sqrt&quot;, then `max_features=sqrt(n_features)`.\n",
              "    - If &quot;log2&quot;, then `max_features=log2(n_features)`.\n",
              "    - If None, then `max_features=n_features`.\n",
              "\n",
              "    .. versionchanged:: 1.1\n",
              "        The default of `max_features` changed from `&quot;auto&quot;` to `&quot;sqrt&quot;`.\n",
              "\n",
              "    .. deprecated:: 1.1\n",
              "        The `&quot;auto&quot;` option was deprecated in 1.1 and will be removed\n",
              "        in 1.3.\n",
              "\n",
              "    Note: the search for a split does not stop until at least one\n",
              "    valid partition of the node samples is found, even if it requires to\n",
              "    effectively inspect more than ``max_features`` features.\n",
              "\n",
              "max_leaf_nodes : int, default=None\n",
              "    Grow trees with ``max_leaf_nodes`` in best-first fashion.\n",
              "    Best nodes are defined as relative reduction in impurity.\n",
              "    If None then unlimited number of leaf nodes.\n",
              "\n",
              "min_impurity_decrease : float, default=0.0\n",
              "    A node will be split if this split induces a decrease of the impurity\n",
              "    greater than or equal to this value.\n",
              "\n",
              "    The weighted impurity decrease equation is the following::\n",
              "\n",
              "        N_t / N * (impurity - N_t_R / N_t * right_impurity\n",
              "                            - N_t_L / N_t * left_impurity)\n",
              "\n",
              "    where ``N`` is the total number of samples, ``N_t`` is the number of\n",
              "    samples at the current node, ``N_t_L`` is the number of samples in the\n",
              "    left child, and ``N_t_R`` is the number of samples in the right child.\n",
              "\n",
              "    ``N``, ``N_t``, ``N_t_R`` and ``N_t_L`` all refer to the weighted sum,\n",
              "    if ``sample_weight`` is passed.\n",
              "\n",
              "    .. versionadded:: 0.19\n",
              "\n",
              "bootstrap : bool, default=True\n",
              "    Whether bootstrap samples are used when building trees. If False, the\n",
              "    whole dataset is used to build each tree.\n",
              "\n",
              "oob_score : bool, default=False\n",
              "    Whether to use out-of-bag samples to estimate the generalization score.\n",
              "    Only available if bootstrap=True.\n",
              "\n",
              "n_jobs : int, default=None\n",
              "    The number of jobs to run in parallel. :meth:`fit`, :meth:`predict`,\n",
              "    :meth:`decision_path` and :meth:`apply` are all parallelized over the\n",
              "    trees. ``None`` means 1 unless in a :obj:`joblib.parallel_backend`\n",
              "    context. ``-1`` means using all processors. See :term:`Glossary\n",
              "    &lt;n_jobs&gt;` for more details.\n",
              "\n",
              "random_state : int, RandomState instance or None, default=None\n",
              "    Controls both the randomness of the bootstrapping of the samples used\n",
              "    when building trees (if ``bootstrap=True``) and the sampling of the\n",
              "    features to consider when looking for the best split at each node\n",
              "    (if ``max_features &lt; n_features``).\n",
              "    See :term:`Glossary &lt;random_state&gt;` for details.\n",
              "\n",
              "verbose : int, default=0\n",
              "    Controls the verbosity when fitting and predicting.\n",
              "\n",
              "warm_start : bool, default=False\n",
              "    When set to ``True``, reuse the solution of the previous call to fit\n",
              "    and add more estimators to the ensemble, otherwise, just fit a whole\n",
              "    new forest. See :term:`Glossary &lt;warm_start&gt;` and\n",
              "    :ref:`gradient_boosting_warm_start` for details.\n",
              "\n",
              "class_weight : {&quot;balanced&quot;, &quot;balanced_subsample&quot;}, dict or list of dicts,             default=None\n",
              "    Weights associated with classes in the form ``{class_label: weight}``.\n",
              "    If not given, all classes are supposed to have weight one. For\n",
              "    multi-output problems, a list of dicts can be provided in the same\n",
              "    order as the columns of y.\n",
              "\n",
              "    Note that for multioutput (including multilabel) weights should be\n",
              "    defined for each class of every column in its own dict. For example,\n",
              "    for four-class multilabel classification weights should be\n",
              "    [{0: 1, 1: 1}, {0: 1, 1: 5}, {0: 1, 1: 1}, {0: 1, 1: 1}] instead of\n",
              "    [{1:1}, {2:5}, {3:1}, {4:1}].\n",
              "\n",
              "    The &quot;balanced&quot; mode uses the values of y to automatically adjust\n",
              "    weights inversely proportional to class frequencies in the input data\n",
              "    as ``n_samples / (n_classes * np.bincount(y))``\n",
              "\n",
              "    The &quot;balanced_subsample&quot; mode is the same as &quot;balanced&quot; except that\n",
              "    weights are computed based on the bootstrap sample for every tree\n",
              "    grown.\n",
              "\n",
              "    For multi-output, the weights of each column of y will be multiplied.\n",
              "\n",
              "    Note that these weights will be multiplied with sample_weight (passed\n",
              "    through the fit method) if sample_weight is specified.\n",
              "\n",
              "ccp_alpha : non-negative float, default=0.0\n",
              "    Complexity parameter used for Minimal Cost-Complexity Pruning. The\n",
              "    subtree with the largest cost complexity that is smaller than\n",
              "    ``ccp_alpha`` will be chosen. By default, no pruning is performed. See\n",
              "    :ref:`minimal_cost_complexity_pruning` for details.\n",
              "\n",
              "    .. versionadded:: 0.22\n",
              "\n",
              "max_samples : int or float, default=None\n",
              "    If bootstrap is True, the number of samples to draw from X\n",
              "    to train each base estimator.\n",
              "\n",
              "    - If None (default), then draw `X.shape[0]` samples.\n",
              "    - If int, then draw `max_samples` samples.\n",
              "    - If float, then draw `max_samples * X.shape[0]` samples. Thus,\n",
              "      `max_samples` should be in the interval `(0.0, 1.0]`.\n",
              "\n",
              "    .. versionadded:: 0.22\n",
              "\n",
              "Attributes\n",
              "----------\n",
              "estimator_ : :class:`~sklearn.tree.DecisionTreeClassifier`\n",
              "    The child estimator template used to create the collection of fitted\n",
              "    sub-estimators.\n",
              "\n",
              "    .. versionadded:: 1.2\n",
              "       `base_estimator_` was renamed to `estimator_`.\n",
              "\n",
              "base_estimator_ : DecisionTreeClassifier\n",
              "    The child estimator template used to create the collection of fitted\n",
              "    sub-estimators.\n",
              "\n",
              "    .. deprecated:: 1.2\n",
              "        `base_estimator_` is deprecated and will be removed in 1.4.\n",
              "        Use `estimator_` instead.\n",
              "\n",
              "estimators_ : list of DecisionTreeClassifier\n",
              "    The collection of fitted sub-estimators.\n",
              "\n",
              "classes_ : ndarray of shape (n_classes,) or a list of such arrays\n",
              "    The classes labels (single output problem), or a list of arrays of\n",
              "    class labels (multi-output problem).\n",
              "\n",
              "n_classes_ : int or list\n",
              "    The number of classes (single output problem), or a list containing the\n",
              "    number of classes for each output (multi-output problem).\n",
              "\n",
              "n_features_in_ : int\n",
              "    Number of features seen during :term:`fit`.\n",
              "\n",
              "    .. versionadded:: 0.24\n",
              "\n",
              "feature_names_in_ : ndarray of shape (`n_features_in_`,)\n",
              "    Names of features seen during :term:`fit`. Defined only when `X`\n",
              "    has feature names that are all strings.\n",
              "\n",
              "    .. versionadded:: 1.0\n",
              "\n",
              "n_outputs_ : int\n",
              "    The number of outputs when ``fit`` is performed.\n",
              "\n",
              "feature_importances_ : ndarray of shape (n_features,)\n",
              "    The impurity-based feature importances.\n",
              "    The higher, the more important the feature.\n",
              "    The importance of a feature is computed as the (normalized)\n",
              "    total reduction of the criterion brought by that feature.  It is also\n",
              "    known as the Gini importance.\n",
              "\n",
              "    Warning: impurity-based feature importances can be misleading for\n",
              "    high cardinality features (many unique values). See\n",
              "    :func:`sklearn.inspection.permutation_importance` as an alternative.\n",
              "\n",
              "oob_score_ : float\n",
              "    Score of the training dataset obtained using an out-of-bag estimate.\n",
              "    This attribute exists only when ``oob_score`` is True.\n",
              "\n",
              "oob_decision_function_ : ndarray of shape (n_samples, n_classes) or             (n_samples, n_classes, n_outputs)\n",
              "    Decision function computed with out-of-bag estimate on the training\n",
              "    set. If n_estimators is small it might be possible that a data point\n",
              "    was never left out during the bootstrap. In this case,\n",
              "    `oob_decision_function_` might contain NaN. This attribute exists\n",
              "    only when ``oob_score`` is True.\n",
              "\n",
              "See Also\n",
              "--------\n",
              "sklearn.tree.DecisionTreeClassifier : A decision tree classifier.\n",
              "sklearn.ensemble.ExtraTreesClassifier : Ensemble of extremely randomized\n",
              "    tree classifiers.\n",
              "\n",
              "Notes\n",
              "-----\n",
              "The default values for the parameters controlling the size of the trees\n",
              "(e.g. ``max_depth``, ``min_samples_leaf``, etc.) lead to fully grown and\n",
              "unpruned trees which can potentially be very large on some data sets. To\n",
              "reduce memory consumption, the complexity and size of the trees should be\n",
              "controlled by setting those parameter values.\n",
              "\n",
              "The features are always randomly permuted at each split. Therefore,\n",
              "the best found split may vary, even with the same training data,\n",
              "``max_features=n_features`` and ``bootstrap=False``, if the improvement\n",
              "of the criterion is identical for several splits enumerated during the\n",
              "search of the best split. To obtain a deterministic behaviour during\n",
              "fitting, ``random_state`` has to be fixed.\n",
              "\n",
              "References\n",
              "----------\n",
              ".. [1] L. Breiman, &quot;Random Forests&quot;, Machine Learning, 45(1), 5-32, 2001.\n",
              "\n",
              "Examples\n",
              "--------\n",
              "&gt;&gt;&gt; from sklearn.ensemble import RandomForestClassifier\n",
              "&gt;&gt;&gt; from sklearn.datasets import make_classification\n",
              "&gt;&gt;&gt; X, y = make_classification(n_samples=1000, n_features=4,\n",
              "...                            n_informative=2, n_redundant=0,\n",
              "...                            random_state=0, shuffle=False)\n",
              "&gt;&gt;&gt; clf = RandomForestClassifier(max_depth=2, random_state=0)\n",
              "&gt;&gt;&gt; clf.fit(X, y)\n",
              "RandomForestClassifier(...)\n",
              "&gt;&gt;&gt; print(clf.predict([[0, 0, 0, 0]]))\n",
              "[1]</pre>\n",
              "      <script>\n",
              "      if (google.colab.kernel.accessAllowed && google.colab.files && google.colab.files.view) {\n",
              "        for (const element of document.querySelectorAll('.filepath')) {\n",
              "          element.style.display = 'block'\n",
              "          element.onclick = (event) => {\n",
              "            event.preventDefault();\n",
              "            event.stopPropagation();\n",
              "            google.colab.files.view(element.textContent, 1081);\n",
              "          };\n",
              "        }\n",
              "      }\n",
              "      for (const element of document.querySelectorAll('.function-repr-contents')) {\n",
              "        element.onclick = (event) => {\n",
              "          event.preventDefault();\n",
              "          event.stopPropagation();\n",
              "          element.classList.toggle('function-repr-contents-collapsed');\n",
              "        };\n",
              "      }\n",
              "      </script>\n",
              "      </div>"
            ]
          },
          "metadata": {},
          "execution_count": 49
        }
      ]
    },
    {
      "cell_type": "code",
      "source": [
        "rfc = RandomForestClassifier()"
      ],
      "metadata": {
        "id": "jCKo6bLAC9r0"
      },
      "execution_count": 50,
      "outputs": []
    },
    {
      "cell_type": "code",
      "source": [
        "rfc.fit(X_train, y_train)"
      ],
      "metadata": {
        "colab": {
          "base_uri": "https://localhost:8080/",
          "height": 74
        },
        "id": "FPwxEWoVDAD4",
        "outputId": "56af2891-e708-4049-d747-09da7777b0fe"
      },
      "execution_count": 51,
      "outputs": [
        {
          "output_type": "execute_result",
          "data": {
            "text/plain": [
              "RandomForestClassifier()"
            ],
            "text/html": [
              "<style>#sk-container-id-4 {color: black;background-color: white;}#sk-container-id-4 pre{padding: 0;}#sk-container-id-4 div.sk-toggleable {background-color: white;}#sk-container-id-4 label.sk-toggleable__label {cursor: pointer;display: block;width: 100%;margin-bottom: 0;padding: 0.3em;box-sizing: border-box;text-align: center;}#sk-container-id-4 label.sk-toggleable__label-arrow:before {content: \"▸\";float: left;margin-right: 0.25em;color: #696969;}#sk-container-id-4 label.sk-toggleable__label-arrow:hover:before {color: black;}#sk-container-id-4 div.sk-estimator:hover label.sk-toggleable__label-arrow:before {color: black;}#sk-container-id-4 div.sk-toggleable__content {max-height: 0;max-width: 0;overflow: hidden;text-align: left;background-color: #f0f8ff;}#sk-container-id-4 div.sk-toggleable__content pre {margin: 0.2em;color: black;border-radius: 0.25em;background-color: #f0f8ff;}#sk-container-id-4 input.sk-toggleable__control:checked~div.sk-toggleable__content {max-height: 200px;max-width: 100%;overflow: auto;}#sk-container-id-4 input.sk-toggleable__control:checked~label.sk-toggleable__label-arrow:before {content: \"▾\";}#sk-container-id-4 div.sk-estimator input.sk-toggleable__control:checked~label.sk-toggleable__label {background-color: #d4ebff;}#sk-container-id-4 div.sk-label input.sk-toggleable__control:checked~label.sk-toggleable__label {background-color: #d4ebff;}#sk-container-id-4 input.sk-hidden--visually {border: 0;clip: rect(1px 1px 1px 1px);clip: rect(1px, 1px, 1px, 1px);height: 1px;margin: -1px;overflow: hidden;padding: 0;position: absolute;width: 1px;}#sk-container-id-4 div.sk-estimator {font-family: monospace;background-color: #f0f8ff;border: 1px dotted black;border-radius: 0.25em;box-sizing: border-box;margin-bottom: 0.5em;}#sk-container-id-4 div.sk-estimator:hover {background-color: #d4ebff;}#sk-container-id-4 div.sk-parallel-item::after {content: \"\";width: 100%;border-bottom: 1px solid gray;flex-grow: 1;}#sk-container-id-4 div.sk-label:hover label.sk-toggleable__label {background-color: #d4ebff;}#sk-container-id-4 div.sk-serial::before {content: \"\";position: absolute;border-left: 1px solid gray;box-sizing: border-box;top: 0;bottom: 0;left: 50%;z-index: 0;}#sk-container-id-4 div.sk-serial {display: flex;flex-direction: column;align-items: center;background-color: white;padding-right: 0.2em;padding-left: 0.2em;position: relative;}#sk-container-id-4 div.sk-item {position: relative;z-index: 1;}#sk-container-id-4 div.sk-parallel {display: flex;align-items: stretch;justify-content: center;background-color: white;position: relative;}#sk-container-id-4 div.sk-item::before, #sk-container-id-4 div.sk-parallel-item::before {content: \"\";position: absolute;border-left: 1px solid gray;box-sizing: border-box;top: 0;bottom: 0;left: 50%;z-index: -1;}#sk-container-id-4 div.sk-parallel-item {display: flex;flex-direction: column;z-index: 1;position: relative;background-color: white;}#sk-container-id-4 div.sk-parallel-item:first-child::after {align-self: flex-end;width: 50%;}#sk-container-id-4 div.sk-parallel-item:last-child::after {align-self: flex-start;width: 50%;}#sk-container-id-4 div.sk-parallel-item:only-child::after {width: 0;}#sk-container-id-4 div.sk-dashed-wrapped {border: 1px dashed gray;margin: 0 0.4em 0.5em 0.4em;box-sizing: border-box;padding-bottom: 0.4em;background-color: white;}#sk-container-id-4 div.sk-label label {font-family: monospace;font-weight: bold;display: inline-block;line-height: 1.2em;}#sk-container-id-4 div.sk-label-container {text-align: center;}#sk-container-id-4 div.sk-container {/* jupyter's `normalize.less` sets `[hidden] { display: none; }` but bootstrap.min.css set `[hidden] { display: none !important; }` so we also need the `!important` here to be able to override the default hidden behavior on the sphinx rendered scikit-learn.org. See: https://github.com/scikit-learn/scikit-learn/issues/21755 */display: inline-block !important;position: relative;}#sk-container-id-4 div.sk-text-repr-fallback {display: none;}</style><div id=\"sk-container-id-4\" class=\"sk-top-container\"><div class=\"sk-text-repr-fallback\"><pre>RandomForestClassifier()</pre><b>In a Jupyter environment, please rerun this cell to show the HTML representation or trust the notebook. <br />On GitHub, the HTML representation is unable to render, please try loading this page with nbviewer.org.</b></div><div class=\"sk-container\" hidden><div class=\"sk-item\"><div class=\"sk-estimator sk-toggleable\"><input class=\"sk-toggleable__control sk-hidden--visually\" id=\"sk-estimator-id-4\" type=\"checkbox\" checked><label for=\"sk-estimator-id-4\" class=\"sk-toggleable__label sk-toggleable__label-arrow\">RandomForestClassifier</label><div class=\"sk-toggleable__content\"><pre>RandomForestClassifier()</pre></div></div></div></div></div>"
            ]
          },
          "metadata": {},
          "execution_count": 51
        }
      ]
    },
    {
      "cell_type": "code",
      "source": [
        "y_pred1 = rfc.predict(X_test)"
      ],
      "metadata": {
        "id": "XxiDS5lZDB5l"
      },
      "execution_count": 52,
      "outputs": []
    },
    {
      "cell_type": "code",
      "source": [
        "accuracy_score(y_test, y_pred1)"
      ],
      "metadata": {
        "colab": {
          "base_uri": "https://localhost:8080/"
        },
        "id": "Bl1MTAxLDIE6",
        "outputId": "fc973c55-1b05-477c-b5bd-e68ae8dcb13c"
      },
      "execution_count": 53,
      "outputs": [
        {
          "output_type": "execute_result",
          "data": {
            "text/plain": [
              "0.7532467532467533"
            ]
          },
          "metadata": {},
          "execution_count": 53
        }
      ]
    }
  ]
}